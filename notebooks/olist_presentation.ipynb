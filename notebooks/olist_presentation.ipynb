{
 "cells": [
  {
   "cell_type": "code",
   "execution_count": 228,
   "id": "cec640a9",
   "metadata": {
    "slideshow": {
     "slide_type": "skip"
    }
   },
   "outputs": [
    {
     "name": "stdout",
     "output_type": "stream",
     "text": [
      "[NbConvertApp] Converting notebook olist_presentation.ipynb to slides\n",
      "[NbConvertApp] Writing 829700 bytes to olist_presentation.slides.html\n",
      "[NbConvertApp] Redirecting reveal.js requests to https://cdnjs.cloudflare.com/ajax/libs/reveal.js/3.5.0\n",
      "Serving your slides at http://127.0.0.1:8000/olist_presentation.slides.html\n",
      "Use Control-C to stop this server\n",
      "^C\n",
      "\n",
      "Interrupted\n"
     ]
    }
   ],
   "source": [
    "!jupyter nbconvert olist_presentation.ipynb --to slides --post serve \\\n",
    "--no-prompt \\\n",
    "--TagRemovePreprocessor.remove_input_tags=remove_input \\\n",
    "--TagRemovePreprocessor.remove_all_outputs_tags=remove_output"
   ]
  },
  {
   "cell_type": "markdown",
   "id": "b6b9fade",
   "metadata": {
    "slideshow": {
     "slide_type": "slide"
    }
   },
   "source": [
    "# Olist Seller Analysis"
   ]
  },
  {
   "cell_type": "markdown",
   "id": "7e220006",
   "metadata": {
    "slideshow": {
     "slide_type": "slide"
    }
   },
   "source": [
    "## Background\n",
    "Olist is a Brazillian e-commerce company that helps small businesses sell goods to customers. 📭  \n",
    "The customers can then leave reviews for their orders from the sellers. ⭐️  \n",
    "Due to poor reviews (and some other factors), some sellers end up costing Olist quite a bit of money. 👎  \n",
    "How can olist minimize these costs❓  \n",
    "\n",
    "*️⃣ This analysis used the [public Olist dataset](https://www.kaggle.com/datasets/olistbr/brazilian-ecommerce), which contains data for 100k+ orders from 2016-2018"
   ]
  },
  {
   "cell_type": "code",
   "execution_count": 180,
   "id": "77d65817",
   "metadata": {
    "slideshow": {
     "slide_type": "skip"
    }
   },
   "outputs": [
    {
     "name": "stdout",
     "output_type": "stream",
     "text": [
      "The autoreload extension is already loaded. To reload it, use:\n",
      "  %reload_ext autoreload\n"
     ]
    }
   ],
   "source": [
    "%load_ext autoreload\n",
    "%autoreload 2\n",
    "\n",
    "import pandas as pd\n",
    "import numpy as np\n",
    "import matplotlib.pyplot as plt\n",
    "import seaborn as sns\n",
    "import statsmodels.api as sm\n",
    "import statsmodels.formula.api as smf"
   ]
  },
  {
   "cell_type": "code",
   "execution_count": 177,
   "id": "6022330d",
   "metadata": {
    "slideshow": {
     "slide_type": "skip"
    }
   },
   "outputs": [],
   "source": [
    "from olist.seller import Seller\n",
    "from olist.data import Olist\n",
    "from olist.order import Order\n",
    "\n",
    "data = Olist().get_data()\n",
    "sellers = Seller().get_training_data()\n",
    "orders = Order().get_training_data(with_distance_seller_customer=True).copy()"
   ]
  },
  {
   "cell_type": "markdown",
   "id": "85e0e576",
   "metadata": {
    "slideshow": {
     "slide_type": "slide"
    }
   },
   "source": [
    "## Olist should remove the worst performing sellers from its platform 😲"
   ]
  },
  {
   "cell_type": "code",
   "execution_count": 4,
   "id": "f4b4871c",
   "metadata": {
    "slideshow": {
     "slide_type": "skip"
    }
   },
   "outputs": [],
   "source": [
    "seller_profits = sellers.copy()\n",
    "\n",
    "# revenue from commission\n",
    "seller_profits['revenue_commission'] = (sellers['sales'] * 0.1) \n",
    "\n",
    "# revenue from subscriptions\n",
    "seller_profits['revenue_subscription'] = sellers['months_on_olist'] * 80\n",
    "\n",
    "# cost per seller\n",
    "review_scores = data['order_reviews'][['order_id','review_score']].merge(data['orders'][['order_id']], on='order_id').merge(data['order_items'][['order_id', 'seller_id']], on='order_id')\n",
    "review_scores['cost_per_review'] = review_scores.review_score.map({1: 100, 2: 50, 3: 40, 4: 0, 5: 0})\n",
    "review_scores = review_scores[['seller_id', 'cost_per_review']].groupby('seller_id').cost_per_review.sum()\n",
    "seller_profits = seller_profits.merge(review_scores, on='seller_id')\n",
    "\n",
    "# profit per seller - revenue - cost\n",
    "seller_profits['profit'] = seller_profits['revenue_commission'] + seller_profits['revenue_subscription'] - seller_profits['cost_per_review']"
   ]
  },
  {
   "cell_type": "code",
   "execution_count": 5,
   "id": "8a93eb8d",
   "metadata": {
    "slideshow": {
     "slide_type": "skip"
    }
   },
   "outputs": [],
   "source": [
    "sorted_sellers = seller_profits.sort_values('profit', ascending=False, ignore_index=True)\n",
    "\n",
    "# cumulative profit before and after it costs\n",
    "sorted_sellers['cum_profit'] = sorted_sellers.profit.cumsum()\n",
    "sorted_sellers['cum_it_costs'] = (sorted_sellers.n_orders.cumsum() ** 0.5) * it_costs_coef\n",
    "# sorted_sellers['cum_it_costs_by_seller'] = sorted_sellers.cum_it_costs - sorted_sellers.cum_it_costs.shift(1, fill_value=0)\n",
    "sorted_sellers['profit_after_it_costs'] = sorted_sellers['cum_profit'] - sorted_sellers['cum_it_costs']"
   ]
  },
  {
   "cell_type": "code",
   "execution_count": 6,
   "id": "70d7fe37",
   "metadata": {
    "slideshow": {
     "slide_type": "skip"
    }
   },
   "outputs": [],
   "source": [
    "# IT costs per seller - it_costs = coef * total_orders ** 0.5\n",
    "total_n_orders = seller_profits.n_orders.sum()\n",
    "total_it_costs = 500000\n",
    "it_cost_per_order = 500000 / total_n_orders\n",
    "it_costs_coef = total_it_costs / (total_n_orders ** 0.5)\n",
    "seller_profits['it_cost'] = sorted_sellers.n_orders * it_cost_per_order"
   ]
  },
  {
   "cell_type": "code",
   "execution_count": 7,
   "id": "ae480124",
   "metadata": {
    "slideshow": {
     "slide_type": "skip"
    }
   },
   "outputs": [
    {
     "data": {
      "text/html": [
       "<div>\n",
       "<style scoped>\n",
       "    .dataframe tbody tr th:only-of-type {\n",
       "        vertical-align: middle;\n",
       "    }\n",
       "\n",
       "    .dataframe tbody tr th {\n",
       "        vertical-align: top;\n",
       "    }\n",
       "\n",
       "    .dataframe thead th {\n",
       "        text-align: right;\n",
       "    }\n",
       "</style>\n",
       "<table border=\"1\" class=\"dataframe\">\n",
       "  <thead>\n",
       "    <tr style=\"text-align: right;\">\n",
       "      <th></th>\n",
       "      <th>seller_id</th>\n",
       "      <th>seller_city</th>\n",
       "      <th>seller_state</th>\n",
       "      <th>delay_to_carrier</th>\n",
       "      <th>wait_time</th>\n",
       "      <th>date_first_sale</th>\n",
       "      <th>date_last_sale</th>\n",
       "      <th>months_on_olist</th>\n",
       "      <th>n_orders</th>\n",
       "      <th>quantity</th>\n",
       "      <th>...</th>\n",
       "      <th>share_of_five_stars</th>\n",
       "      <th>share_of_one_stars</th>\n",
       "      <th>review_score</th>\n",
       "      <th>revenue_commission</th>\n",
       "      <th>revenue_subscription</th>\n",
       "      <th>cost_per_review</th>\n",
       "      <th>profit</th>\n",
       "      <th>cum_profit</th>\n",
       "      <th>cum_it_costs</th>\n",
       "      <th>profit_after_it_costs</th>\n",
       "    </tr>\n",
       "  </thead>\n",
       "  <tbody>\n",
       "    <tr>\n",
       "      <th>0</th>\n",
       "      <td>53243585a1d6dc2643021fd1853d8905</td>\n",
       "      <td>lauro de freitas</td>\n",
       "      <td>BA</td>\n",
       "      <td>0.0</td>\n",
       "      <td>13.374429</td>\n",
       "      <td>2017-08-28 18:44:58</td>\n",
       "      <td>2018-08-21 16:35:26</td>\n",
       "      <td>12.0</td>\n",
       "      <td>358</td>\n",
       "      <td>410</td>\n",
       "      <td>...</td>\n",
       "      <td>0.514706</td>\n",
       "      <td>0.100490</td>\n",
       "      <td>4.075980</td>\n",
       "      <td>22277.605</td>\n",
       "      <td>960.0</td>\n",
       "      <td>6040</td>\n",
       "      <td>17197.605</td>\n",
       "      <td>17197.605</td>\n",
       "      <td>29940.362661</td>\n",
       "      <td>-12742.757661</td>\n",
       "    </tr>\n",
       "    <tr>\n",
       "      <th>1</th>\n",
       "      <td>fa1c13f2614d7b5c4749cbc52fecda94</td>\n",
       "      <td>sumare</td>\n",
       "      <td>SP</td>\n",
       "      <td>0.0</td>\n",
       "      <td>13.341871</td>\n",
       "      <td>2017-01-07 20:55:10</td>\n",
       "      <td>2018-08-29 10:04:16</td>\n",
       "      <td>20.0</td>\n",
       "      <td>585</td>\n",
       "      <td>586</td>\n",
       "      <td>...</td>\n",
       "      <td>0.676976</td>\n",
       "      <td>0.085911</td>\n",
       "      <td>4.340206</td>\n",
       "      <td>19404.203</td>\n",
       "      <td>1600.0</td>\n",
       "      <td>6510</td>\n",
       "      <td>14494.203</td>\n",
       "      <td>31691.808</td>\n",
       "      <td>48592.740142</td>\n",
       "      <td>-16900.932142</td>\n",
       "    </tr>\n",
       "    <tr>\n",
       "      <th>2</th>\n",
       "      <td>7e93a43ef30c4f03f38b393420bc753a</td>\n",
       "      <td>barueri</td>\n",
       "      <td>SP</td>\n",
       "      <td>0.0</td>\n",
       "      <td>11.335141</td>\n",
       "      <td>2016-10-08 03:19:09</td>\n",
       "      <td>2018-07-14 21:25:19</td>\n",
       "      <td>21.0</td>\n",
       "      <td>336</td>\n",
       "      <td>340</td>\n",
       "      <td>...</td>\n",
       "      <td>0.628319</td>\n",
       "      <td>0.103245</td>\n",
       "      <td>4.206490</td>\n",
       "      <td>17643.187</td>\n",
       "      <td>1680.0</td>\n",
       "      <td>4840</td>\n",
       "      <td>14483.187</td>\n",
       "      <td>46174.995</td>\n",
       "      <td>56591.449190</td>\n",
       "      <td>-10416.454190</td>\n",
       "    </tr>\n",
       "    <tr>\n",
       "      <th>3</th>\n",
       "      <td>edb1ef5e36e0c8cd84eb3c9b003e486d</td>\n",
       "      <td>teresopolis</td>\n",
       "      <td>RJ</td>\n",
       "      <td>0.0</td>\n",
       "      <td>11.709806</td>\n",
       "      <td>2017-09-30 09:49:22</td>\n",
       "      <td>2018-08-20 19:30:10</td>\n",
       "      <td>11.0</td>\n",
       "      <td>166</td>\n",
       "      <td>175</td>\n",
       "      <td>...</td>\n",
       "      <td>0.702857</td>\n",
       "      <td>0.062857</td>\n",
       "      <td>4.434286</td>\n",
       "      <td>7928.455</td>\n",
       "      <td>880.0</td>\n",
       "      <td>1570</td>\n",
       "      <td>7238.455</td>\n",
       "      <td>53413.450</td>\n",
       "      <td>60151.916198</td>\n",
       "      <td>-6738.466198</td>\n",
       "    </tr>\n",
       "    <tr>\n",
       "      <th>4</th>\n",
       "      <td>ccc4bbb5f32a6ab2b7066a4130f114e3</td>\n",
       "      <td>curitiba</td>\n",
       "      <td>PR</td>\n",
       "      <td>0.0</td>\n",
       "      <td>15.853247</td>\n",
       "      <td>2017-01-07 14:00:13</td>\n",
       "      <td>2018-08-21 21:05:16</td>\n",
       "      <td>19.0</td>\n",
       "      <td>187</td>\n",
       "      <td>192</td>\n",
       "      <td>...</td>\n",
       "      <td>0.649215</td>\n",
       "      <td>0.083770</td>\n",
       "      <td>4.282723</td>\n",
       "      <td>7400.462</td>\n",
       "      <td>1520.0</td>\n",
       "      <td>2300</td>\n",
       "      <td>6620.462</td>\n",
       "      <td>60033.912</td>\n",
       "      <td>63925.718855</td>\n",
       "      <td>-3891.806855</td>\n",
       "    </tr>\n",
       "  </tbody>\n",
       "</table>\n",
       "<p>5 rows × 22 columns</p>\n",
       "</div>"
      ],
      "text/plain": [
       "                          seller_id       seller_city seller_state  \\\n",
       "0  53243585a1d6dc2643021fd1853d8905  lauro de freitas           BA   \n",
       "1  fa1c13f2614d7b5c4749cbc52fecda94            sumare           SP   \n",
       "2  7e93a43ef30c4f03f38b393420bc753a           barueri           SP   \n",
       "3  edb1ef5e36e0c8cd84eb3c9b003e486d       teresopolis           RJ   \n",
       "4  ccc4bbb5f32a6ab2b7066a4130f114e3          curitiba           PR   \n",
       "\n",
       "   delay_to_carrier  wait_time     date_first_sale      date_last_sale  \\\n",
       "0               0.0  13.374429 2017-08-28 18:44:58 2018-08-21 16:35:26   \n",
       "1               0.0  13.341871 2017-01-07 20:55:10 2018-08-29 10:04:16   \n",
       "2               0.0  11.335141 2016-10-08 03:19:09 2018-07-14 21:25:19   \n",
       "3               0.0  11.709806 2017-09-30 09:49:22 2018-08-20 19:30:10   \n",
       "4               0.0  15.853247 2017-01-07 14:00:13 2018-08-21 21:05:16   \n",
       "\n",
       "   months_on_olist  n_orders  quantity  ...  share_of_five_stars  \\\n",
       "0             12.0       358       410  ...             0.514706   \n",
       "1             20.0       585       586  ...             0.676976   \n",
       "2             21.0       336       340  ...             0.628319   \n",
       "3             11.0       166       175  ...             0.702857   \n",
       "4             19.0       187       192  ...             0.649215   \n",
       "\n",
       "   share_of_one_stars  review_score  revenue_commission  revenue_subscription  \\\n",
       "0            0.100490      4.075980           22277.605                 960.0   \n",
       "1            0.085911      4.340206           19404.203                1600.0   \n",
       "2            0.103245      4.206490           17643.187                1680.0   \n",
       "3            0.062857      4.434286            7928.455                 880.0   \n",
       "4            0.083770      4.282723            7400.462                1520.0   \n",
       "\n",
       "   cost_per_review     profit  cum_profit  cum_it_costs  profit_after_it_costs  \n",
       "0             6040  17197.605   17197.605  29940.362661          -12742.757661  \n",
       "1             6510  14494.203   31691.808  48592.740142          -16900.932142  \n",
       "2             4840  14483.187   46174.995  56591.449190          -10416.454190  \n",
       "3             1570   7238.455   53413.450  60151.916198           -6738.466198  \n",
       "4             2300   6620.462   60033.912  63925.718855           -3891.806855  \n",
       "\n",
       "[5 rows x 22 columns]"
      ]
     },
     "execution_count": 7,
     "metadata": {},
     "output_type": "execute_result"
    }
   ],
   "source": [
    "sorted_sellers.head()"
   ]
  },
  {
   "cell_type": "code",
   "execution_count": 187,
   "id": "ff8030cb",
   "metadata": {
    "slideshow": {
     "slide_type": "fragment"
    },
    "tags": [
     "remove_input"
    ]
   },
   "outputs": [
    {
     "data": {
      "image/png": "[encoded data removed]",
      "text/plain": [
       "<Figure size 432x360 with 1 Axes>"
      ]
     },
     "metadata": {},
     "output_type": "display_data"
    }
   ],
   "source": [
    "max_profit_id = sorted_sellers.profit_after_it_costs.idxmax()\n",
    "max_profit_value = int(sorted_sellers.profit_after_it_costs.max())\n",
    "total_profit = int(sorted_sellers.profit_after_it_costs.iloc[-1])\n",
    "total_cost = total_profit - max_profit_value\n",
    "pl_dict = {'total_revenue': max_profit_value, 'total_cost': total_cost, 'total_profit': total_profit}\n",
    "pl_df = pd.DataFrame(pl_dict.values(), columns=['amount'], index=pl_dict)\n",
    "\n",
    "plt.figure(figsize=(6, 5))\n",
    "ax = sns.barplot(x=pl_df.index, y=pl_df.amount)\n",
    "plt.title('revenue vs. cost from sellers', fontdict={'fontsize': 15})\n",
    "plt.ylabel('amount (BRL - millions)')\n",
    "plt.axhline(0, c='black')\n",
    "ax.set_xticklabels(['total revenue', 'total cost', 'total profit']);"
   ]
  },
  {
   "cell_type": "markdown",
   "id": "06c1a107",
   "metadata": {
    "slideshow": {
     "slide_type": "fragment"
    }
   },
   "source": [
    "Notice the huge cost!  Our goal is to: \n",
    "- find which sellers are contributing the most to the cost\n",
    "- identify criteria for removing sellers "
   ]
  },
  {
   "cell_type": "code",
   "execution_count": 18,
   "id": "a0a234c8",
   "metadata": {
    "slideshow": {
     "slide_type": "skip"
    }
   },
   "outputs": [],
   "source": [
    "num_sellers = len(sorted_sellers)\n",
    "num_profitable_sellers = len(sorted_sellers[sorted_sellers['profit'] > 0])\n",
    "num_bad_sellers = num_sellers - num_profitable_sellers\n",
    "pd.DataFrame()"
   ]
  },
  {
   "cell_type": "markdown",
   "id": "5f9de1b8",
   "metadata": {
    "slideshow": {
     "slide_type": "skip"
    }
   },
   "source": [
    "- total number of sellers: 2967\n",
    "- number of profitable sellers (left of orange dot): 2475\n",
    "- number of unprofitable sellers (right of oragne dot): 492"
   ]
  },
  {
   "cell_type": "markdown",
   "id": "a88aa9c0",
   "metadata": {
    "slideshow": {
     "slide_type": "slide"
    }
   },
   "source": [
    "## Which sellers should be removed? 🤔"
   ]
  },
  {
   "cell_type": "markdown",
   "id": "bf08f139",
   "metadata": {
    "slideshow": {
     "slide_type": "fragment"
    }
   },
   "source": [
    "use just one criteria:\n",
    "- Total accumulated loss for Olist from that seller is -450 BRL or more 💰 "
   ]
  },
  {
   "cell_type": "markdown",
   "id": "b9f2e01c",
   "metadata": {
    "slideshow": {
     "slide_type": "slide"
    }
   },
   "source": [
    "### Analyzing Sellers whose Cost > Revenue\n",
    "**Revenue** 😎  \n",
    "Olist gets 💲 from sellers due to receiving:\n",
    "- 10% of sale price per order\n",
    "- 80 BRL per month subscription fee"
   ]
  },
  {
   "cell_type": "markdown",
   "id": "0179bed8",
   "metadata": {
    "slideshow": {
     "slide_type": "fragment"
    }
   },
   "source": [
    "**Cost** 😢  \n",
    "Olist loses 💲 from sellers due to:\n",
    "- Bad customer reviews 👎\n",
    "- IT costs 🖥"
   ]
  },
  {
   "cell_type": "code",
   "execution_count": 33,
   "id": "124c5d00",
   "metadata": {
    "slideshow": {
     "slide_type": "skip"
    }
   },
   "outputs": [],
   "source": [
    "review_cost_dict = {'1 star': 100, '2 stars': 50, '3 stars': 40, '4 stars': 0, '5 stars': 0}\n",
    "review_cost_df = pd.DataFrame(review_cost_dict.values(), \n",
    "             columns=['cost'],\n",
    "             index=review_cost_dict.keys()\n",
    "            )"
   ]
  },
  {
   "cell_type": "markdown",
   "id": "8d27c647",
   "metadata": {
    "slideshow": {
     "slide_type": "subslide"
    }
   },
   "source": [
    "\\*NOTE* For this analysis, we make two assumptions:"
   ]
  },
  {
   "cell_type": "markdown",
   "id": "20aa4041",
   "metadata": {
    "slideshow": {
     "slide_type": "fragment"
    }
   },
   "source": [
    "- each poor review costs Olist the following:"
   ]
  },
  {
   "cell_type": "code",
   "execution_count": 224,
   "id": "bfc94919",
   "metadata": {
    "slideshow": {
     "slide_type": "fragment"
    },
    "tags": [
     "remove_input"
    ]
   },
   "outputs": [
    {
     "data": {
      "image/png": "[encoded data removed]",
      "text/plain": [
       "<Figure size 432x288 with 1 Axes>"
      ]
     },
     "metadata": {},
     "output_type": "display_data"
    }
   ],
   "source": [
    "sns.set_theme()\n",
    "plt.figure(figsize=(6,4))\n",
    "ax = sns.barplot(x=review_cost_df.index, y=review_cost_df.cost)\n",
    "ax.bar_label(ax.containers[0])\n",
    "plt.title('cost per review score', fontdict={'fontsize': 15})\n",
    "plt.ylabel('cost (BRL)');"
   ]
  },
  {
   "cell_type": "markdown",
   "id": "4bc031c9",
   "metadata": {
    "slideshow": {
     "slide_type": "fragment"
    }
   },
   "source": [
    "- IT costs are proportional to the square root of the number of orders:"
   ]
  },
  {
   "cell_type": "markdown",
   "id": "3bf90e50",
   "metadata": {
    "slideshow": {
     "slide_type": "fragment"
    }
   },
   "source": [
    "$ total\\;IT\\;costs = \\sqrt{total\\;number\\;of\\;orders} = 500,000\\;BRL $"
   ]
  },
  {
   "cell_type": "markdown",
   "id": "52968783",
   "metadata": {
    "slideshow": {
     "slide_type": "subslide"
    }
   },
   "source": [
    "With these assumptions, we can calculate the profitability of each seller, and sort them from most profitable to least profitable"
   ]
  },
  {
   "cell_type": "code",
   "execution_count": 151,
   "id": "f912fe99",
   "metadata": {
    "slideshow": {
     "slide_type": "fragment"
    },
    "tags": [
     "remove_input"
    ]
   },
   "outputs": [
    {
     "data": {
      "image/png": "[encoded data removed]",
      "text/plain": [
       "<Figure size 864x360 with 1 Axes>"
      ]
     },
     "metadata": {},
     "output_type": "display_data"
    }
   ],
   "source": [
    "# plot cumulative it costs\n",
    "plt.figure(figsize=(12,5))\n",
    "sorted_sellers.profit_after_it_costs.plot(label='cumulative profits')\n",
    "plt.title('cumulative profits by number of sellers', fontdict={'fontsize': 15})\n",
    "plt.xlabel('sellers\\n<--most profitable sellers           least profitable sellers-->')\n",
    "plt.ylabel('profit (BRL - millions)')\n",
    "\n",
    "# plot max profit value\n",
    "max_profit_id = sorted_sellers.profit_after_it_costs.idxmax()\n",
    "max_profit_value = int(sorted_sellers.profit_after_it_costs.max())\n",
    "mpv = str(max_profit_value)[:3] + ',' + str(max_profit_value)[3:]\n",
    "plt.plot(max_profit_id, max_profit_value, 'o', label=f'max profit value: {mpv} BRL')\n",
    "\n",
    "# plot total profit value\n",
    "total_profit_id = sorted_sellers.tail(1).index.item()\n",
    "total_profit_value = int(sorted_sellers.profit_after_it_costs.iloc[-1])\n",
    "tpv = str(total_profit_value)[:3] + ',' + str(total_profit_value)[3:]\n",
    "\n",
    "# plot profit before bottom 100 sellers\n",
    "profit_before_bottom_150_id = total_profit_id - 150\n",
    "profit_before_bottom_150_value = int(sorted_sellers.profit_after_it_costs.iloc[profit_before_bottom_150_id])\n",
    "pbb150 = str(profit_before_bottom_150_value)[:3] + ',' + str(profit_before_bottom_150_value)[3:]\n",
    "plt.plot(profit_before_bottom_150_id, profit_before_bottom_150_value, 'o', label=f'profit without bottom 150 sellers: {pbb150} BRL')\n",
    "\n",
    "plt.plot(total_profit_id, total_profit_value, 'o', label=f'total profit value: {tpv} BRL')\n",
    "\n",
    "plt.legend();"
   ]
  },
  {
   "cell_type": "code",
   "execution_count": 133,
   "id": "23cc3f44",
   "metadata": {
    "slideshow": {
     "slide_type": "skip"
    }
   },
   "outputs": [
    {
     "name": "stdout",
     "output_type": "stream",
     "text": [
      "0.8971185986828052\n",
      "0.05055611729019211\n"
     ]
    }
   ],
   "source": [
    "total_cost = max_profit_value - total_profit_value\n",
    "bottom_150_cost = profit_before_bottom_150_value - total_profit_value\n",
    "print(bottom_150_cost / total_cost)\n",
    "print(150 / len(sorted_sellers))"
   ]
  },
  {
   "cell_type": "markdown",
   "id": "5f771566",
   "metadata": {
    "slideshow": {
     "slide_type": "fragment"
    }
   },
   "source": [
    "- All the sellers to the right of the orange dot are unprofitable sellers for Olist  \n",
    "- The bottom 150 sellers (5% of all sellers) account for about 90% of lost profits 🤯\n",
    "- The profit cutoff for the bottom 150 sellers is about -450 BRL 📉"
   ]
  },
  {
   "cell_type": "markdown",
   "id": "c84cc0c3",
   "metadata": {
    "slideshow": {
     "slide_type": "subslide"
    }
   },
   "source": [
    "Here's a look at the profit outliers"
   ]
  },
  {
   "cell_type": "code",
   "execution_count": 176,
   "id": "2e8d8aa7",
   "metadata": {
    "slideshow": {
     "slide_type": "fragment"
    },
    "tags": [
     "remove_input"
    ]
   },
   "outputs": [
    {
     "data": {
      "image/png": "[encoded data removed]",
      "text/plain": [
       "<Figure size 864x360 with 1 Axes>"
      ]
     },
     "metadata": {},
     "output_type": "display_data"
    }
   ],
   "source": [
    "plt.figure(figsize=(12,5))\n",
    "sns.histplot(sorted_sellers.profit.head(150), kde=False, label='most profitable 150 sellers')\n",
    "sns.histplot(sorted_sellers.profit.tail(150), kde=False, color='red', label='most costly 150 sellers')\n",
    "plt.axvline(sorted_sellers.profit.mean(), c='orange', label=f\"average profit (all sellers): {sorted_sellers.profit.mean():.2f} BRL\")\n",
    "plt.title('Top vs Bottom sellers', fontdict={'fontsize': 15})\n",
    "plt.xlabel('profit (BRL)')\n",
    "plt.xticks(list(range(-30000, 20001, 5000)))\n",
    "plt.ylabel('Count (number of sellers)')\n",
    "plt.legend();"
   ]
  },
  {
   "cell_type": "markdown",
   "id": "3172e3bf",
   "metadata": {
    "slideshow": {
     "slide_type": "fragment"
    }
   },
   "source": [
    "#### Shouldn't we cut ALL sellers with a net loss (i.e. whose costs for Olist exceed their revenue)? 🤔"
   ]
  },
  {
   "cell_type": "markdown",
   "id": "eacd31df",
   "metadata": {
    "slideshow": {
     "slide_type": "fragment"
    }
   },
   "source": [
    "🙅‍♂️ No!  We don't want to punish new sellers or low-order sellers, as this could negatively impact Olist's reputation and future sellers"
   ]
  },
  {
   "cell_type": "markdown",
   "id": "ecdcf091",
   "metadata": {
    "slideshow": {
     "slide_type": "skip"
    }
   },
   "source": [
    "### Affect on profit"
   ]
  },
  {
   "cell_type": "code",
   "execution_count": 160,
   "id": "74310f08",
   "metadata": {
    "slideshow": {
     "slide_type": "skip"
    }
   },
   "outputs": [
    {
     "data": {
      "text/html": [
       "<div>\n",
       "<style scoped>\n",
       "    .dataframe tbody tr th:only-of-type {\n",
       "        vertical-align: middle;\n",
       "    }\n",
       "\n",
       "    .dataframe tbody tr th {\n",
       "        vertical-align: top;\n",
       "    }\n",
       "\n",
       "    .dataframe thead th {\n",
       "        text-align: right;\n",
       "    }\n",
       "</style>\n",
       "<table border=\"1\" class=\"dataframe\">\n",
       "  <thead>\n",
       "    <tr style=\"text-align: right;\">\n",
       "      <th></th>\n",
       "      <th>total_profit</th>\n",
       "      <th>avg_profit</th>\n",
       "    </tr>\n",
       "  </thead>\n",
       "  <tbody>\n",
       "    <tr>\n",
       "      <th>all_sellers</th>\n",
       "      <td>309168</td>\n",
       "      <td>272.72</td>\n",
       "    </tr>\n",
       "    <tr>\n",
       "      <th>without_bottom_150</th>\n",
       "      <td>905524</td>\n",
       "      <td>460.58</td>\n",
       "    </tr>\n",
       "  </tbody>\n",
       "</table>\n",
       "</div>"
      ],
      "text/plain": [
       "                    total_profit  avg_profit\n",
       "all_sellers               309168      272.72\n",
       "without_bottom_150        905524      460.58"
      ]
     },
     "execution_count": 160,
     "metadata": {},
     "output_type": "execute_result"
    }
   ],
   "source": [
    "profit_dict = {'all_sellers': [total_profit_value, round(sorted_sellers.profit.mean(), 2)], \n",
    "              'without_bottom_150': [profit_before_bottom_150_value, round(sorted_sellers.profit.iloc[:profit_before_bottom_150_id].mean(), 2)]}\n",
    "profit_df = pd.DataFrame(profit_dict.values(), index=profit_dict, columns=['total_profit', 'avg_profit'])\n",
    "profit_df"
   ]
  },
  {
   "cell_type": "code",
   "execution_count": 226,
   "id": "790a7506",
   "metadata": {
    "slideshow": {
     "slide_type": "subslide"
    },
    "tags": [
     "remove_input"
    ]
   },
   "outputs": [
    {
     "data": {
      "image/png": "[encoded data removed]",
      "text/plain": [
       "<Figure size 864x288 with 2 Axes>"
      ]
     },
     "metadata": {},
     "output_type": "display_data"
    }
   ],
   "source": [
    "fig, ax = plt.subplots(1, 2, figsize=(12,4))\n",
    "\n",
    "sns.barplot(ax=ax[0], x=profit_df.index, y=profit_df.total_profit)\n",
    "ax[0].set_title('comparing total profit', fontdict={'fontsize': 15})\n",
    "ax[0].set_ylabel('total profit (BRL)')\n",
    "ax[0].set_xticklabels(['all sellers', 'without bottom 150 sellers'])\n",
    "\n",
    "sns.barplot(ax=ax[1], x=profit_df.index, y=profit_df.avg_profit)\n",
    "ax[1].set_title('comparing avg profit per seller', fontdict={'fontsize': 15})\n",
    "ax[1].set_ylabel('avg profit (BRL)')\n",
    "ax[1].set_xticklabels(['all sellers', 'without bottom 150 sellers']);"
   ]
  },
  {
   "cell_type": "code",
   "execution_count": 175,
   "id": "ee287056",
   "metadata": {
    "slideshow": {
     "slide_type": "skip"
    }
   },
   "outputs": [
    {
     "data": {
      "text/plain": [
       "596356"
      ]
     },
     "execution_count": 175,
     "metadata": {},
     "output_type": "execute_result"
    }
   ],
   "source": [
    "profit_df.loc['without_bottom_150', 'total_profit'] - profit_df.loc['all_sellers', 'total_profit']"
   ]
  },
  {
   "cell_type": "markdown",
   "id": "96b34146",
   "metadata": {
    "slideshow": {
     "slide_type": "fragment"
    }
   },
   "source": [
    "**without the bottom 150 sellers, Olist could have saved nearly 600,000 BRL in costs associated with review scores and IT** 😲"
   ]
  },
  {
   "cell_type": "markdown",
   "id": "98da1114",
   "metadata": {
    "slideshow": {
     "slide_type": "fragment"
    }
   },
   "source": [
    "By removing any seller whose net loss reaches -450 BRL, Olist can minimize the affect of those costs"
   ]
  },
  {
   "cell_type": "markdown",
   "id": "d4291146",
   "metadata": {
    "slideshow": {
     "slide_type": "fragment"
    }
   },
   "source": [
    "By setting the limit at -450 BRL (and not 0 BRL), Olist can avoid unfairly removing the following sellers who may have a small net loss:\n",
    "- new sellers\n",
    "- low-order sellers\n",
    "- well-established sellers with an insignificant net loss"
   ]
  },
  {
   "cell_type": "markdown",
   "id": "18c1bd2e",
   "metadata": {
    "slideshow": {
     "slide_type": "slide"
    }
   },
   "source": [
    "## Analyzing the bottom sellers"
   ]
  },
  {
   "cell_type": "markdown",
   "id": "6b57553d",
   "metadata": {
    "slideshow": {
     "slide_type": "subslide"
    }
   },
   "source": [
    "The bottom 150 sellers have more one-star reviews and fewer five-star reviews than other sellers"
   ]
  },
  {
   "cell_type": "code",
   "execution_count": 218,
   "id": "7993ab6c",
   "metadata": {
    "slideshow": {
     "slide_type": "skip"
    }
   },
   "outputs": [
    {
     "data": {
      "text/html": [
       "<div>\n",
       "<style scoped>\n",
       "    .dataframe tbody tr th:only-of-type {\n",
       "        vertical-align: middle;\n",
       "    }\n",
       "\n",
       "    .dataframe tbody tr th {\n",
       "        vertical-align: top;\n",
       "    }\n",
       "\n",
       "    .dataframe thead th {\n",
       "        text-align: right;\n",
       "    }\n",
       "</style>\n",
       "<table border=\"1\" class=\"dataframe\">\n",
       "  <thead>\n",
       "    <tr style=\"text-align: right;\">\n",
       "      <th></th>\n",
       "      <th>avg_share_of_one_stars</th>\n",
       "      <th>avg_share_of_five_stars</th>\n",
       "    </tr>\n",
       "  </thead>\n",
       "  <tbody>\n",
       "    <tr>\n",
       "      <th>without_bottom_150</th>\n",
       "      <td>0.122062</td>\n",
       "      <td>0.595729</td>\n",
       "    </tr>\n",
       "    <tr>\n",
       "      <th>only_bottom_150</th>\n",
       "      <td>0.216409</td>\n",
       "      <td>0.469110</td>\n",
       "    </tr>\n",
       "  </tbody>\n",
       "</table>\n",
       "</div>"
      ],
      "text/plain": [
       "                    avg_share_of_one_stars  avg_share_of_five_stars\n",
       "without_bottom_150                0.122062                 0.595729\n",
       "only_bottom_150                   0.216409                 0.469110"
      ]
     },
     "execution_count": 218,
     "metadata": {},
     "output_type": "execute_result"
    }
   ],
   "source": [
    "avg_1star = sorted_sellers.share_of_one_stars.iloc[:-150].mean()\n",
    "avg_1star_bottom150 = sorted_sellers.share_of_one_stars.iloc[-150:].mean()\n",
    "\n",
    "avg_5star = sorted_sellers.share_of_five_stars.iloc[:-150].mean()\n",
    "avg_5star_bottom150 = sorted_sellers.share_of_five_stars.iloc[-150:].mean()\n",
    "\n",
    "stars_dict = {'without_bottom_150': [avg_1star, avg_5star], \n",
    "              'only_bottom_150': [avg_1star_bottom150, avg_5star_bottom150]}\n",
    "stars_df = pd.DataFrame(stars_dict.values(), index=stars_dict.keys(), columns=['avg_share_of_one_stars', 'avg_share_of_five_stars'])\n",
    "stars_df"
   ]
  },
  {
   "cell_type": "code",
   "execution_count": 222,
   "id": "d658f7ac",
   "metadata": {
    "slideshow": {
     "slide_type": "skip"
    }
   },
   "outputs": [
    {
     "name": "stdout",
     "output_type": "stream",
     "text": [
      "0.09434736235319145\n",
      "0.12661929069157896\n"
     ]
    }
   ],
   "source": [
    "print(avg_1star_bottom150 - avg_1star)\n",
    "print(avg_5star - avg_5star_bottom150)"
   ]
  },
  {
   "cell_type": "code",
   "execution_count": 220,
   "id": "116326ab",
   "metadata": {
    "slideshow": {
     "slide_type": "fragment"
    },
    "tags": [
     "remove_input"
    ]
   },
   "outputs": [
    {
     "data": {
      "image/png": "[encoded data removed]",
      "text/plain": [
       "<Figure size 1008x360 with 2 Axes>"
      ]
     },
     "metadata": {},
     "output_type": "display_data"
    }
   ],
   "source": [
    "fig, ax = plt.subplots(1, 2, figsize=(14,5))\n",
    "\n",
    "sns.barplot(ax=ax[0], x=stars_df.index, y=stars_df.avg_share_of_one_stars)\n",
    "ax[0].set_title('share of reviews are one star', fontdict={'fontsize': 15})\n",
    "ax[0].set_ylabel('avg share is one star (%)')\n",
    "ax[0].set_xticklabels(['all sellers (except bottom 150)', 'only bottom 150 sellers'])\n",
    "\n",
    "sns.barplot(ax=ax[1], x=stars_df.index, y=stars_df.avg_share_of_five_stars)\n",
    "ax[1].set_title('share of reviews are five stars', fontdict={'fontsize': 15})\n",
    "ax[1].set_ylabel('avg share is five stars (%)')\n",
    "ax[1].set_xticklabels(['all sellers (except bottom 150)', 'only bottom 150 sellers']);"
   ]
  },
  {
   "cell_type": "markdown",
   "id": "17b62bc4",
   "metadata": {
    "slideshow": {
     "slide_type": "fragment"
    }
   },
   "source": [
    "- Almost 22% of all reviews for the bottom 150 sellers are one star reviews - nearly 10% more than other sellers\n",
    "- Almost 60% of all reviews for most sellers are five star reviews.  For the bottom 150 sellers, it's about 47%"
   ]
  },
  {
   "cell_type": "markdown",
   "id": "abe064da",
   "metadata": {
    "slideshow": {
     "slide_type": "skip"
    }
   },
   "source": [
    "### creating logistic regression models for one star and five star reviews\n"
   ]
  },
  {
   "cell_type": "code",
   "execution_count": 178,
   "id": "40f359b9",
   "metadata": {
    "slideshow": {
     "slide_type": "skip"
    }
   },
   "outputs": [
    {
     "data": {
      "text/html": [
       "<div>\n",
       "<style scoped>\n",
       "    .dataframe tbody tr th:only-of-type {\n",
       "        vertical-align: middle;\n",
       "    }\n",
       "\n",
       "    .dataframe tbody tr th {\n",
       "        vertical-align: top;\n",
       "    }\n",
       "\n",
       "    .dataframe thead th {\n",
       "        text-align: right;\n",
       "    }\n",
       "</style>\n",
       "<table border=\"1\" class=\"dataframe\">\n",
       "  <thead>\n",
       "    <tr style=\"text-align: right;\">\n",
       "      <th></th>\n",
       "      <th>dim_is_one_star</th>\n",
       "      <th>dim_is_five_star</th>\n",
       "      <th>review_score</th>\n",
       "      <th>wait_time</th>\n",
       "      <th>expected_wait_time</th>\n",
       "      <th>delay_vs_expected</th>\n",
       "      <th>number_of_sellers</th>\n",
       "      <th>number_of_products</th>\n",
       "      <th>price</th>\n",
       "      <th>freight_value</th>\n",
       "      <th>distance_seller_customer</th>\n",
       "    </tr>\n",
       "  </thead>\n",
       "  <tbody>\n",
       "    <tr>\n",
       "      <th>0</th>\n",
       "      <td>0</td>\n",
       "      <td>0</td>\n",
       "      <td>4</td>\n",
       "      <td>-0.431192</td>\n",
       "      <td>-0.934806</td>\n",
       "      <td>-0.161781</td>\n",
       "      <td>-0.112544</td>\n",
       "      <td>-0.264595</td>\n",
       "      <td>-0.513802</td>\n",
       "      <td>-0.652038</td>\n",
       "      <td>-0.979475</td>\n",
       "    </tr>\n",
       "    <tr>\n",
       "      <th>1</th>\n",
       "      <td>0</td>\n",
       "      <td>0</td>\n",
       "      <td>4</td>\n",
       "      <td>0.134174</td>\n",
       "      <td>-0.524871</td>\n",
       "      <td>-0.161781</td>\n",
       "      <td>-0.112544</td>\n",
       "      <td>-0.264595</td>\n",
       "      <td>-0.086640</td>\n",
       "      <td>0.000467</td>\n",
       "      <td>0.429743</td>\n",
       "    </tr>\n",
       "    <tr>\n",
       "      <th>2</th>\n",
       "      <td>0</td>\n",
       "      <td>1</td>\n",
       "      <td>5</td>\n",
       "      <td>-0.329907</td>\n",
       "      <td>0.330878</td>\n",
       "      <td>-0.161781</td>\n",
       "      <td>-0.112544</td>\n",
       "      <td>-0.264595</td>\n",
       "      <td>0.111748</td>\n",
       "      <td>-0.164053</td>\n",
       "      <td>-0.145495</td>\n",
       "    </tr>\n",
       "    <tr>\n",
       "      <th>3</th>\n",
       "      <td>0</td>\n",
       "      <td>1</td>\n",
       "      <td>5</td>\n",
       "      <td>0.073540</td>\n",
       "      <td>0.279445</td>\n",
       "      <td>-0.161781</td>\n",
       "      <td>-0.112544</td>\n",
       "      <td>-0.264595</td>\n",
       "      <td>-0.441525</td>\n",
       "      <td>0.206815</td>\n",
       "      <td>2.054621</td>\n",
       "    </tr>\n",
       "    <tr>\n",
       "      <th>4</th>\n",
       "      <td>0</td>\n",
       "      <td>1</td>\n",
       "      <td>5</td>\n",
       "      <td>-1.019535</td>\n",
       "      <td>-1.326297</td>\n",
       "      <td>-0.161781</td>\n",
       "      <td>-0.112544</td>\n",
       "      <td>-0.264595</td>\n",
       "      <td>-0.562388</td>\n",
       "      <td>-0.652038</td>\n",
       "      <td>-0.959115</td>\n",
       "    </tr>\n",
       "  </tbody>\n",
       "</table>\n",
       "</div>"
      ],
      "text/plain": [
       "   dim_is_one_star  dim_is_five_star  review_score  wait_time  \\\n",
       "0                0                 0             4  -0.431192   \n",
       "1                0                 0             4   0.134174   \n",
       "2                0                 1             5  -0.329907   \n",
       "3                0                 1             5   0.073540   \n",
       "4                0                 1             5  -1.019535   \n",
       "\n",
       "   expected_wait_time  delay_vs_expected  number_of_sellers  \\\n",
       "0           -0.934806          -0.161781          -0.112544   \n",
       "1           -0.524871          -0.161781          -0.112544   \n",
       "2            0.330878          -0.161781          -0.112544   \n",
       "3            0.279445          -0.161781          -0.112544   \n",
       "4           -1.326297          -0.161781          -0.112544   \n",
       "\n",
       "   number_of_products     price  freight_value  distance_seller_customer  \n",
       "0           -0.264595 -0.513802      -0.652038                 -0.979475  \n",
       "1           -0.264595 -0.086640       0.000467                  0.429743  \n",
       "2           -0.264595  0.111748      -0.164053                 -0.145495  \n",
       "3           -0.264595 -0.441525       0.206815                  2.054621  \n",
       "4           -0.264595 -0.562388      -0.652038                 -0.959115  "
      ]
     },
     "execution_count": 178,
     "metadata": {},
     "output_type": "execute_result"
    }
   ],
   "source": [
    "# data preparation\n",
    "features = ['wait_time', 'expected_wait_time', 'delay_vs_expected', 'number_of_sellers', 'number_of_products', 'price', 'freight_value', 'distance_seller_customer']\n",
    "\n",
    "def z_standardization(df, features):\n",
    "    for feature in features:\n",
    "        mean = df[feature].mean()\n",
    "        std = df[feature].std()\n",
    "        df[feature] = df[feature].apply(lambda x: (x - mean) / std)\n",
    "    return df\n",
    "\n",
    "z_orders = z_standardization(orders.copy(), features)\n",
    "\n",
    "z_orders = z_orders[['dim_is_one_star', 'dim_is_five_star', 'review_score'] + features]\n",
    "z_orders.head()"
   ]
  },
  {
   "cell_type": "code",
   "execution_count": 179,
   "id": "4e545056",
   "metadata": {
    "slideshow": {
     "slide_type": "skip"
    }
   },
   "outputs": [
    {
     "data": {
      "text/html": [
       "<div>\n",
       "<style scoped>\n",
       "    .dataframe tbody tr th:only-of-type {\n",
       "        vertical-align: middle;\n",
       "    }\n",
       "\n",
       "    .dataframe tbody tr th {\n",
       "        vertical-align: top;\n",
       "    }\n",
       "\n",
       "    .dataframe thead th {\n",
       "        text-align: right;\n",
       "    }\n",
       "</style>\n",
       "<table border=\"1\" class=\"dataframe\">\n",
       "  <thead>\n",
       "    <tr style=\"text-align: right;\">\n",
       "      <th></th>\n",
       "      <th>feature</th>\n",
       "      <th>vif_score</th>\n",
       "    </tr>\n",
       "  </thead>\n",
       "  <tbody>\n",
       "    <tr>\n",
       "      <th>1</th>\n",
       "      <td>dim_is_five_star</td>\n",
       "      <td>4.753470</td>\n",
       "    </tr>\n",
       "    <tr>\n",
       "      <th>2</th>\n",
       "      <td>review_score</td>\n",
       "      <td>4.731166</td>\n",
       "    </tr>\n",
       "    <tr>\n",
       "      <th>3</th>\n",
       "      <td>wait_time</td>\n",
       "      <td>3.206425</td>\n",
       "    </tr>\n",
       "    <tr>\n",
       "      <th>5</th>\n",
       "      <td>delay_vs_expected</td>\n",
       "      <td>2.466005</td>\n",
       "    </tr>\n",
       "    <tr>\n",
       "      <th>9</th>\n",
       "      <td>freight_value</td>\n",
       "      <td>1.679576</td>\n",
       "    </tr>\n",
       "    <tr>\n",
       "      <th>4</th>\n",
       "      <td>expected_wait_time</td>\n",
       "      <td>1.606817</td>\n",
       "    </tr>\n",
       "    <tr>\n",
       "      <th>10</th>\n",
       "      <td>distance_seller_customer</td>\n",
       "      <td>1.602219</td>\n",
       "    </tr>\n",
       "    <tr>\n",
       "      <th>7</th>\n",
       "      <td>number_of_products</td>\n",
       "      <td>1.383809</td>\n",
       "    </tr>\n",
       "    <tr>\n",
       "      <th>8</th>\n",
       "      <td>price</td>\n",
       "      <td>1.209150</td>\n",
       "    </tr>\n",
       "    <tr>\n",
       "      <th>0</th>\n",
       "      <td>dim_is_one_star</td>\n",
       "      <td>1.161443</td>\n",
       "    </tr>\n",
       "    <tr>\n",
       "      <th>6</th>\n",
       "      <td>number_of_sellers</td>\n",
       "      <td>1.105688</td>\n",
       "    </tr>\n",
       "  </tbody>\n",
       "</table>\n",
       "</div>"
      ],
      "text/plain": [
       "                     feature  vif_score\n",
       "1           dim_is_five_star   4.753470\n",
       "2               review_score   4.731166\n",
       "3                  wait_time   3.206425\n",
       "5          delay_vs_expected   2.466005\n",
       "9              freight_value   1.679576\n",
       "4         expected_wait_time   1.606817\n",
       "10  distance_seller_customer   1.602219\n",
       "7         number_of_products   1.383809\n",
       "8                      price   1.209150\n",
       "0            dim_is_one_star   1.161443\n",
       "6          number_of_sellers   1.105688"
      ]
     },
     "execution_count": 179,
     "metadata": {},
     "output_type": "execute_result"
    }
   ],
   "source": [
    "# VIF analysis\n",
    "from statsmodels.stats.outliers_influence import variance_inflation_factor as vif\n",
    "vif_scores=[]\n",
    "for i, f in enumerate(z_orders.columns):\n",
    "    score = [f, vif(z_orders.values, i)]\n",
    "    vif_scores.append(score)\n",
    "    \n",
    "pd.DataFrame(vif_scores, columns=['feature', 'vif_score']).sort_values('vif_score', ascending=False)"
   ]
  },
  {
   "cell_type": "code",
   "execution_count": 181,
   "id": "c382d619",
   "metadata": {
    "slideshow": {
     "slide_type": "skip"
    }
   },
   "outputs": [
    {
     "name": "stdout",
     "output_type": "stream",
     "text": [
      "Optimization terminated successfully.\n",
      "         Current function value: 0.272741\n",
      "         Iterations 7\n"
     ]
    },
    {
     "data": {
      "text/html": [
       "<table class=\"simpletable\">\n",
       "<caption>Logit Regression Results</caption>\n",
       "<tr>\n",
       "  <th>Dep. Variable:</th>    <td>dim_is_one_star</td> <th>  No. Observations:  </th>  <td> 95872</td> \n",
       "</tr>\n",
       "<tr>\n",
       "  <th>Model:</th>                 <td>Logit</td>      <th>  Df Residuals:      </th>  <td> 95863</td> \n",
       "</tr>\n",
       "<tr>\n",
       "  <th>Method:</th>                 <td>MLE</td>       <th>  Df Model:          </th>  <td>     8</td> \n",
       "</tr>\n",
       "<tr>\n",
       "  <th>Date:</th>            <td>Sun, 03 Apr 2022</td> <th>  Pseudo R-squ.:     </th>  <td>0.1474</td> \n",
       "</tr>\n",
       "<tr>\n",
       "  <th>Time:</th>                <td>01:23:33</td>     <th>  Log-Likelihood:    </th> <td> -26148.</td>\n",
       "</tr>\n",
       "<tr>\n",
       "  <th>converged:</th>             <td>True</td>       <th>  LL-Null:           </th> <td> -30669.</td>\n",
       "</tr>\n",
       "<tr>\n",
       "  <th>Covariance Type:</th>     <td>nonrobust</td>    <th>  LLR p-value:       </th>  <td> 0.000</td> \n",
       "</tr>\n",
       "</table>\n",
       "<table class=\"simpletable\">\n",
       "<tr>\n",
       "              <td></td>                <th>coef</th>     <th>std err</th>      <th>z</th>      <th>P>|z|</th>  <th>[0.025</th>    <th>0.975]</th>  \n",
       "</tr>\n",
       "<tr>\n",
       "  <th>Intercept</th>                <td>   -2.4842</td> <td>    0.013</td> <td> -189.094</td> <td> 0.000</td> <td>   -2.510</td> <td>   -2.458</td>\n",
       "</tr>\n",
       "<tr>\n",
       "  <th>wait_time</th>                <td>    0.8353</td> <td>    0.020</td> <td>   42.415</td> <td> 0.000</td> <td>    0.797</td> <td>    0.874</td>\n",
       "</tr>\n",
       "<tr>\n",
       "  <th>expected_wait_time</th>       <td>   -0.2048</td> <td>    0.017</td> <td>  -12.355</td> <td> 0.000</td> <td>   -0.237</td> <td>   -0.172</td>\n",
       "</tr>\n",
       "<tr>\n",
       "  <th>delay_vs_expected</th>        <td>    0.1395</td> <td>    0.020</td> <td>    6.845</td> <td> 0.000</td> <td>    0.100</td> <td>    0.179</td>\n",
       "</tr>\n",
       "<tr>\n",
       "  <th>number_of_sellers</th>        <td>    0.1863</td> <td>    0.008</td> <td>   23.517</td> <td> 0.000</td> <td>    0.171</td> <td>    0.202</td>\n",
       "</tr>\n",
       "<tr>\n",
       "  <th>number_of_products</th>       <td>    0.2500</td> <td>    0.011</td> <td>   23.714</td> <td> 0.000</td> <td>    0.229</td> <td>    0.271</td>\n",
       "</tr>\n",
       "<tr>\n",
       "  <th>price</th>                    <td>    0.0515</td> <td>    0.011</td> <td>    4.571</td> <td> 0.000</td> <td>    0.029</td> <td>    0.074</td>\n",
       "</tr>\n",
       "<tr>\n",
       "  <th>freight_value</th>            <td>   -0.0128</td> <td>    0.012</td> <td>   -1.027</td> <td> 0.304</td> <td>   -0.037</td> <td>    0.012</td>\n",
       "</tr>\n",
       "<tr>\n",
       "  <th>distance_seller_customer</th> <td>   -0.1300</td> <td>    0.014</td> <td>   -9.103</td> <td> 0.000</td> <td>   -0.158</td> <td>   -0.102</td>\n",
       "</tr>\n",
       "</table>"
      ],
      "text/plain": [
       "<class 'statsmodels.iolib.summary.Summary'>\n",
       "\"\"\"\n",
       "                           Logit Regression Results                           \n",
       "==============================================================================\n",
       "Dep. Variable:        dim_is_one_star   No. Observations:                95872\n",
       "Model:                          Logit   Df Residuals:                    95863\n",
       "Method:                           MLE   Df Model:                            8\n",
       "Date:                Sun, 03 Apr 2022   Pseudo R-squ.:                  0.1474\n",
       "Time:                        01:23:33   Log-Likelihood:                -26148.\n",
       "converged:                       True   LL-Null:                       -30669.\n",
       "Covariance Type:            nonrobust   LLR p-value:                     0.000\n",
       "============================================================================================\n",
       "                               coef    std err          z      P>|z|      [0.025      0.975]\n",
       "--------------------------------------------------------------------------------------------\n",
       "Intercept                   -2.4842      0.013   -189.094      0.000      -2.510      -2.458\n",
       "wait_time                    0.8353      0.020     42.415      0.000       0.797       0.874\n",
       "expected_wait_time          -0.2048      0.017    -12.355      0.000      -0.237      -0.172\n",
       "delay_vs_expected            0.1395      0.020      6.845      0.000       0.100       0.179\n",
       "number_of_sellers            0.1863      0.008     23.517      0.000       0.171       0.202\n",
       "number_of_products           0.2500      0.011     23.714      0.000       0.229       0.271\n",
       "price                        0.0515      0.011      4.571      0.000       0.029       0.074\n",
       "freight_value               -0.0128      0.012     -1.027      0.304      -0.037       0.012\n",
       "distance_seller_customer    -0.1300      0.014     -9.103      0.000      -0.158      -0.102\n",
       "============================================================================================\n",
       "\"\"\""
      ]
     },
     "execution_count": 181,
     "metadata": {},
     "output_type": "execute_result"
    }
   ],
   "source": [
    "# one_star model\n",
    "l1_formula = \"dim_is_one_star ~ {}\".format(' + '.join(features))\n",
    "logit_one = smf.logit(formula=l1_formula, data=z_orders).fit()\n",
    "logit_one.summary()"
   ]
  },
  {
   "cell_type": "code",
   "execution_count": 182,
   "id": "85d49f6a",
   "metadata": {
    "slideshow": {
     "slide_type": "skip"
    }
   },
   "outputs": [
    {
     "name": "stdout",
     "output_type": "stream",
     "text": [
      "Optimization terminated successfully.\n",
      "         Current function value: 0.636466\n",
      "         Iterations 7\n"
     ]
    },
    {
     "data": {
      "text/html": [
       "<table class=\"simpletable\">\n",
       "<caption>Logit Regression Results</caption>\n",
       "<tr>\n",
       "  <th>Dep. Variable:</th>   <td>dim_is_five_star</td> <th>  No. Observations:  </th>  <td> 95872</td> \n",
       "</tr>\n",
       "<tr>\n",
       "  <th>Model:</th>                 <td>Logit</td>      <th>  Df Residuals:      </th>  <td> 95863</td> \n",
       "</tr>\n",
       "<tr>\n",
       "  <th>Method:</th>                 <td>MLE</td>       <th>  Df Model:          </th>  <td>     8</td> \n",
       "</tr>\n",
       "<tr>\n",
       "  <th>Date:</th>            <td>Sun, 03 Apr 2022</td> <th>  Pseudo R-squ.:     </th>  <td>0.05859</td>\n",
       "</tr>\n",
       "<tr>\n",
       "  <th>Time:</th>                <td>01:24:03</td>     <th>  Log-Likelihood:    </th> <td> -61019.</td>\n",
       "</tr>\n",
       "<tr>\n",
       "  <th>converged:</th>             <td>True</td>       <th>  LL-Null:           </th> <td> -64817.</td>\n",
       "</tr>\n",
       "<tr>\n",
       "  <th>Covariance Type:</th>     <td>nonrobust</td>    <th>  LLR p-value:       </th>  <td> 0.000</td> \n",
       "</tr>\n",
       "</table>\n",
       "<table class=\"simpletable\">\n",
       "<tr>\n",
       "              <td></td>                <th>coef</th>     <th>std err</th>      <th>z</th>      <th>P>|z|</th>  <th>[0.025</th>    <th>0.975]</th>  \n",
       "</tr>\n",
       "<tr>\n",
       "  <th>Intercept</th>                <td>    0.3416</td> <td>    0.007</td> <td>   47.749</td> <td> 0.000</td> <td>    0.328</td> <td>    0.356</td>\n",
       "</tr>\n",
       "<tr>\n",
       "  <th>wait_time</th>                <td>   -0.5642</td> <td>    0.013</td> <td>  -44.283</td> <td> 0.000</td> <td>   -0.589</td> <td>   -0.539</td>\n",
       "</tr>\n",
       "<tr>\n",
       "  <th>expected_wait_time</th>       <td>    0.0736</td> <td>    0.009</td> <td>    8.323</td> <td> 0.000</td> <td>    0.056</td> <td>    0.091</td>\n",
       "</tr>\n",
       "<tr>\n",
       "  <th>delay_vs_expected</th>        <td>   -0.3753</td> <td>    0.024</td> <td>  -15.529</td> <td> 0.000</td> <td>   -0.423</td> <td>   -0.328</td>\n",
       "</tr>\n",
       "<tr>\n",
       "  <th>number_of_sellers</th>        <td>   -0.1455</td> <td>    0.008</td> <td>  -18.546</td> <td> 0.000</td> <td>   -0.161</td> <td>   -0.130</td>\n",
       "</tr>\n",
       "<tr>\n",
       "  <th>number_of_products</th>       <td>   -0.1359</td> <td>    0.008</td> <td>  -16.240</td> <td> 0.000</td> <td>   -0.152</td> <td>   -0.120</td>\n",
       "</tr>\n",
       "<tr>\n",
       "  <th>price</th>                    <td>    0.0204</td> <td>    0.008</td> <td>    2.676</td> <td> 0.007</td> <td>    0.005</td> <td>    0.035</td>\n",
       "</tr>\n",
       "<tr>\n",
       "  <th>freight_value</th>            <td>    0.0009</td> <td>    0.009</td> <td>    0.101</td> <td> 0.919</td> <td>   -0.017</td> <td>    0.019</td>\n",
       "</tr>\n",
       "<tr>\n",
       "  <th>distance_seller_customer</th> <td>    0.0649</td> <td>    0.009</td> <td>    7.450</td> <td> 0.000</td> <td>    0.048</td> <td>    0.082</td>\n",
       "</tr>\n",
       "</table>"
      ],
      "text/plain": [
       "<class 'statsmodels.iolib.summary.Summary'>\n",
       "\"\"\"\n",
       "                           Logit Regression Results                           \n",
       "==============================================================================\n",
       "Dep. Variable:       dim_is_five_star   No. Observations:                95872\n",
       "Model:                          Logit   Df Residuals:                    95863\n",
       "Method:                           MLE   Df Model:                            8\n",
       "Date:                Sun, 03 Apr 2022   Pseudo R-squ.:                 0.05859\n",
       "Time:                        01:24:03   Log-Likelihood:                -61019.\n",
       "converged:                       True   LL-Null:                       -64817.\n",
       "Covariance Type:            nonrobust   LLR p-value:                     0.000\n",
       "============================================================================================\n",
       "                               coef    std err          z      P>|z|      [0.025      0.975]\n",
       "--------------------------------------------------------------------------------------------\n",
       "Intercept                    0.3416      0.007     47.749      0.000       0.328       0.356\n",
       "wait_time                   -0.5642      0.013    -44.283      0.000      -0.589      -0.539\n",
       "expected_wait_time           0.0736      0.009      8.323      0.000       0.056       0.091\n",
       "delay_vs_expected           -0.3753      0.024    -15.529      0.000      -0.423      -0.328\n",
       "number_of_sellers           -0.1455      0.008    -18.546      0.000      -0.161      -0.130\n",
       "number_of_products          -0.1359      0.008    -16.240      0.000      -0.152      -0.120\n",
       "price                        0.0204      0.008      2.676      0.007       0.005       0.035\n",
       "freight_value                0.0009      0.009      0.101      0.919      -0.017       0.019\n",
       "distance_seller_customer     0.0649      0.009      7.450      0.000       0.048       0.082\n",
       "============================================================================================\n",
       "\"\"\""
      ]
     },
     "execution_count": 182,
     "metadata": {},
     "output_type": "execute_result"
    }
   ],
   "source": [
    "# five_star model\n",
    "l2_formula = \"dim_is_five_star ~ {}\".format(' + '.join(features))\n",
    "logit_two = smf.logit(formula=l2_formula, data=z_orders).fit()\n",
    "logit_two.summary()"
   ]
  },
  {
   "cell_type": "markdown",
   "id": "d1e35091",
   "metadata": {
    "slideshow": {
     "slide_type": "subslide"
    }
   },
   "source": [
    "By creating logistic regression models for orders that received reviews of one star and five stars, we can see which features were most important for determining the score 🤓"
   ]
  },
  {
   "cell_type": "code",
   "execution_count": 185,
   "id": "726c7737",
   "metadata": {
    "slideshow": {
     "slide_type": "fragment"
    },
    "tags": [
     "remove_input"
    ]
   },
   "outputs": [
    {
     "data": {
      "image/png": "[encoded data removed]",
      "text/plain": [
       "<Figure size 1008x360 with 2 Axes>"
      ]
     },
     "metadata": {},
     "output_type": "display_data"
    }
   ],
   "source": [
    "logit_one_df = pd.DataFrame(logit_one.params[1:].sort_values(), columns=['coef'])\n",
    "logit_two_df = pd.DataFrame(logit_two.params[1:].sort_values(ascending=False), columns=['coef'])\n",
    "\n",
    "fig, ax = plt.subplots(1, 2, figsize=(14,5))\n",
    "logit_one_df.plot.barh(\n",
    "    ax=ax[0],\n",
    "    legend=False\n",
    ")\n",
    "ax[0].set_title('partial coefficient values for one-star reviews model', fontdict={'fontsize':15})\n",
    "\n",
    "\n",
    "logit_two_df.plot.barh(\n",
    "    ax=ax[1],\n",
    "    legend=False\n",
    ")\n",
    "ax[1].set_title('partial coefficient values for five-star reviews model', fontdict={'fontsize':15})\n",
    "\n",
    "plt.subplots_adjust(wspace=0.48);\n"
   ]
  },
  {
   "cell_type": "markdown",
   "id": "15f5e447",
   "metadata": {
    "slideshow": {
     "slide_type": "fragment"
    }
   },
   "source": [
    "- For one star reviews, the total wait time for delivery was much more influential than the other features at indicating a one-star review\n",
    "- For five star reviews, delay of the expected wait time was quite influential in preventing a five-star review (in addition to the total wait time)"
   ]
  },
  {
   "cell_type": "markdown",
   "id": "9a8dc587",
   "metadata": {
    "slideshow": {
     "slide_type": "subslide"
    }
   },
   "source": [
    "### So basically ..."
   ]
  },
  {
   "cell_type": "markdown",
   "id": "05d5b94d",
   "metadata": {
    "slideshow": {
     "slide_type": "fragment"
    }
   },
   "source": [
    "The shorter the wait time for delivery, the less likely the order will receive a one-star review, thus preventing costs associated with poor reviews"
   ]
  },
  {
   "cell_type": "code",
   "execution_count": 199,
   "id": "81e3945d",
   "metadata": {
    "slideshow": {
     "slide_type": "skip"
    }
   },
   "outputs": [
    {
     "data": {
      "text/html": [
       "<div>\n",
       "<style scoped>\n",
       "    .dataframe tbody tr th:only-of-type {\n",
       "        vertical-align: middle;\n",
       "    }\n",
       "\n",
       "    .dataframe tbody tr th {\n",
       "        vertical-align: top;\n",
       "    }\n",
       "\n",
       "    .dataframe thead th {\n",
       "        text-align: right;\n",
       "    }\n",
       "</style>\n",
       "<table border=\"1\" class=\"dataframe\">\n",
       "  <thead>\n",
       "    <tr style=\"text-align: right;\">\n",
       "      <th></th>\n",
       "      <th>avg_wait_time</th>\n",
       "      <th>avg_delay_to_carrier</th>\n",
       "    </tr>\n",
       "  </thead>\n",
       "  <tbody>\n",
       "    <tr>\n",
       "      <th>without_bottom_150</th>\n",
       "      <td>12.061956</td>\n",
       "      <td>0.384658</td>\n",
       "    </tr>\n",
       "    <tr>\n",
       "      <th>only_bottom_150</th>\n",
       "      <td>13.594143</td>\n",
       "      <td>0.404007</td>\n",
       "    </tr>\n",
       "  </tbody>\n",
       "</table>\n",
       "</div>"
      ],
      "text/plain": [
       "                    avg_wait_time  avg_delay_to_carrier\n",
       "without_bottom_150      12.061956              0.384658\n",
       "only_bottom_150         13.594143              0.404007"
      ]
     },
     "execution_count": 199,
     "metadata": {},
     "output_type": "execute_result"
    }
   ],
   "source": [
    "avg_wait_time = sorted_sellers.wait_time.iloc[:-150].mean()\n",
    "avg_wait_time_bottom150 = sorted_sellers.wait_time.iloc[-150:].mean()\n",
    "\n",
    "avg_delay_to_carrier = sorted_sellers.delay_to_carrier.iloc[:-150].mean()\n",
    "avg_delay_to_carrier_bottom150 = sorted_sellers.delay_to_carrier.iloc[-150:].mean()\n",
    "\n",
    "wait_dict = {'without_bottom_150': [avg_wait_time, avg_delay_to_carrier], \n",
    "              'only_bottom_150': [avg_wait_time_bottom150, avg_delay_to_carrier_bottom150]}\n",
    "wait_df = pd.DataFrame(wait_dict.values(), index=wait_dict.keys(), columns=['avg_wait_time', 'avg_delay_to_carrier'])\n",
    "wait_df"
   ]
  },
  {
   "cell_type": "code",
   "execution_count": 216,
   "id": "23da6207",
   "metadata": {
    "slideshow": {
     "slide_type": "skip"
    }
   },
   "outputs": [
    {
     "data": {
      "text/plain": [
       "1.5299999999999994"
      ]
     },
     "execution_count": 216,
     "metadata": {},
     "output_type": "execute_result"
    }
   ],
   "source": [
    "13.59-12.06"
   ]
  },
  {
   "cell_type": "code",
   "execution_count": 217,
   "id": "93a8ce2b",
   "metadata": {
    "slideshow": {
     "slide_type": "fragment"
    },
    "tags": [
     "remove_input"
    ]
   },
   "outputs": [
    {
     "data": {
      "image/png": "[encoded data removed]",
      "text/plain": [
       "<Figure size 1008x360 with 2 Axes>"
      ]
     },
     "metadata": {},
     "output_type": "display_data"
    }
   ],
   "source": [
    "fig, ax = plt.subplots(1, 2, figsize=(14,5))\n",
    "\n",
    "sns.barplot(ax=ax[0], x=wait_df.index, y=wait_df.avg_wait_time)\n",
    "ax[0].set_title('comparing avg wait time for delivery', fontdict={'fontsize': 15})\n",
    "ax[0].set_ylabel('avg wait time (days)')\n",
    "ax[0].set_xticklabels(['all sellers (except bottom 150)', 'only bottom 150 sellers'])\n",
    "ax[0].set_ylim([9, 14])\n",
    "\n",
    "sns.barplot(ax=ax[1], x=wait_df.index, y=wait_df.avg_delay_to_carrier)\n",
    "ax[1].set_title('comparing avg delay of getting order to carrier', fontdict={'fontsize': 15})\n",
    "ax[1].set_ylabel('avg delay (days)')\n",
    "ax[1].set_xticklabels(['all sellers (except bottom 150)', 'only bottom 150 sellers'])\n",
    "ax[1].set_ylim([0.21, 0.41]);"
   ]
  },
  {
   "cell_type": "markdown",
   "id": "4446047c",
   "metadata": {
    "slideshow": {
     "slide_type": "fragment"
    }
   },
   "source": [
    "- the average wait time for delivery from the bottom 150 sellers is 1.5 days slower than the rest of the sellers ⏱\n",
    "- the average delay of getting the order to the carrier is 0.02 days (about half an hour) slower for the bottom 150 sellers 📦"
   ]
  },
  {
   "cell_type": "markdown",
   "id": "59de0d50",
   "metadata": {
    "slideshow": {
     "slide_type": "slide"
    }
   },
   "source": [
    "## Recommendations"
   ]
  },
  {
   "cell_type": "markdown",
   "id": "c297ee35",
   "metadata": {
    "slideshow": {
     "slide_type": "fragment"
    }
   },
   "source": [
    "- Olist should remove sellers with a net loss of -450 BRL or more 📉"
   ]
  },
  {
   "cell_type": "markdown",
   "id": "ec13b680",
   "metadata": {
    "slideshow": {
     "slide_type": "fragment"
    }
   },
   "source": [
    "- Risky sellers should be identified as soon as possible using the following criteria:\n",
    "    - their cost for Olist outweighs their revenue 💵\n",
    "    - share of one star reviews is 20% or more ⭐️\n",
    "    - average wait time for delivery is 13.5 days or more ⏳"
   ]
  },
  {
   "cell_type": "markdown",
   "id": "c64127aa",
   "metadata": {
    "slideshow": {
     "slide_type": "fragment"
    }
   },
   "source": [
    "- Once a risky seller is identified, they can receive support from Olist to help increase their share of 5 star reviews and decrease the wait time for delivery 🤗"
   ]
  },
  {
   "cell_type": "markdown",
   "id": "cf79dfef",
   "metadata": {
    "heading_collapsed": true,
    "slideshow": {
     "slide_type": "skip"
    }
   },
   "source": [
    "# previous slideshow below"
   ]
  },
  {
   "cell_type": "markdown",
   "id": "d39e56ca",
   "metadata": {
    "hidden": true,
    "slideshow": {
     "slide_type": "skip"
    }
   },
   "source": [
    "### Criteria two: 10+ months on olist"
   ]
  },
  {
   "cell_type": "code",
   "execution_count": 61,
   "id": "fddc7dcb",
   "metadata": {
    "hidden": true,
    "slideshow": {
     "slide_type": "skip"
    },
    "tags": [
     "remove_input"
    ]
   },
   "outputs": [
    {
     "data": {
      "image/png": "[encoded data removed]",
      "text/plain": [
       "<Figure size 864x360 with 1 Axes>"
      ]
     },
     "metadata": {
      "needs_background": "light"
     },
     "output_type": "display_data"
    }
   ],
   "source": [
    "\"\"\"profits inculding all sellers before max profit point and all sellers after that point\n",
    "who have been on olist under i number of months\"\"\"\n",
    "\n",
    "profits = []\n",
    "for m in range(0, 15):\n",
    "    s2 = (sorted_sellers[(sorted_sellers.index < max_profit_id + 1) | (sorted_sellers.index > max_profit_id) & (sorted_sellers.months_on_olist < m)]).copy()\n",
    "    s2['cum_profit'] = s2.profit.cumsum()\n",
    "    s2['cum_it_costs'] = (s2.n_orders.cumsum() ** 0.5) * it_costs_coef\n",
    "    s2['it_costs'] = s2.cum_it_costs - s2.cum_it_costs.shift(1, fill_value=0)\n",
    "    s2['profit_after_it_costs'] = s2['cum_profit'] - s2['cum_it_costs']\n",
    "    profits.append((m, s2.iloc[-1]['profit_after_it_costs']))\n",
    "\n",
    "profits_df = pd.DataFrame(profits, columns=['months', 'profits'])\n",
    "\n",
    "plt.figure(figsize=(12,5))\n",
    "plt.plot(profits_df['months'], profits_df['profits'])\n",
    "plt.title('Cumulative profits when cutting negative sellers after n number of months')\n",
    "plt.xlabel('n number of months')\n",
    "plt.ylabel('profits (BRL)')\n",
    "plt.axvline(7, c='orange', label='warning (7 months)') # offer support to sellers whose total profits are negative\n",
    "plt.axvline(10, c='red', label='removal (10 months)') # cut off sellers who still have negative total profits\n",
    "plt.legend();"
   ]
  },
  {
   "cell_type": "markdown",
   "id": "9757b96c",
   "metadata": {
    "hidden": true,
    "slideshow": {
     "slide_type": "skip"
    }
   },
   "source": [
    "### Criteria three: 900+ orders"
   ]
  },
  {
   "cell_type": "markdown",
   "id": "9a8b12b4",
   "metadata": {
    "hidden": true,
    "slideshow": {
     "slide_type": "skip"
    }
   },
   "source": [
    "- many orders → high IT cost"
   ]
  },
  {
   "cell_type": "code",
   "execution_count": 62,
   "id": "58745f1a",
   "metadata": {
    "hidden": true,
    "slideshow": {
     "slide_type": "skip"
    },
    "tags": [
     "remove_input"
    ]
   },
   "outputs": [
    {
     "data": {
      "image/png": "[encoded data removed]",
      "text/plain": [
       "<Figure size 864x360 with 1 Axes>"
      ]
     },
     "metadata": {
      "needs_background": "light"
     },
     "output_type": "display_data"
    }
   ],
   "source": [
    "it_profits = []\n",
    "for i in range(0, 2000, 100):\n",
    "    s = (sorted_sellers[(sorted_sellers.index < max_profit_id + 1) | (sorted_sellers.index > max_profit_id) & (sorted_sellers.n_orders < i)]).copy()\n",
    "    s['cum_profit'] = s.profit.cumsum()\n",
    "    s['cum_it_costs'] = (s.n_orders.cumsum() ** 0.5) * it_costs_coef\n",
    "    s['it_costs'] = s.cum_it_costs - s.cum_it_costs.shift(1, fill_value=0)\n",
    "    s['profit_after_it_costs'] = s['cum_profit'] - s['cum_it_costs']\n",
    "    it_profits.append((i, s.iloc[-1]['profit_after_it_costs']))\n",
    "    \n",
    "it_profits_df = pd.DataFrame(it_profits, columns=['num_orders', 'profits'])\n",
    "plt.figure(figsize=(12,5))\n",
    "plt.plot(it_profits_df['num_orders'], it_profits_df['profits'])\n",
    "plt.title('Cumulative profits when cutting negative sellers after n number of orders')\n",
    "plt.xlabel('n number of orders')\n",
    "plt.ylabel('profits (BRL)')\n",
    "plt.axvline(900, c='orange', label='900 orders') # offer support to sellers whose total profits are negative\n",
    "plt.legend();"
   ]
  },
  {
   "cell_type": "markdown",
   "id": "7d784baf",
   "metadata": {
    "hidden": true,
    "slideshow": {
     "slide_type": "skip"
    }
   },
   "source": [
    "## How many sellers cut?"
   ]
  },
  {
   "cell_type": "code",
   "execution_count": 95,
   "id": "2cb067b3",
   "metadata": {
    "hidden": true,
    "slideshow": {
     "slide_type": "skip"
    }
   },
   "outputs": [],
   "source": [
    "# num sellers\n",
    "n_orders_cutoff = 900\n",
    "months_cutoff = 10\n",
    "final_df = sorted_sellers[(sorted_sellers.index < max_profit_id + 1) | (sorted_sellers.index > max_profit_id) & (sorted_sellers.n_orders < n_orders_cutoff) & (sorted_sellers.months_on_olist < months_cutoff)]\n",
    "num_sellers_before = sorted_sellers.shape[0]\n",
    "num_sellers_after = final_df.shape[0]\n",
    "num_sellers_before - num_sellers_after\n",
    "\n",
    "# avg profits\n",
    "profit_after = final_df.profit.mean()\n",
    "profit_before = sorted_sellers.profit.mean()\n",
    "\n",
    "# avg it costs\n",
    "it_after = final_df.it_cost.mean()\n",
    "it_before = sorted_sellers.it_cost.mean()\n",
    "\n",
    "compare_df = pd.DataFrame([[num_sellers_before, num_sellers_after], [profit_before, profit_after],[it_before, it_after]], columns=['before', 'after'], index=['num_sellers', 'avg_profit', 'avg_it_cost'])"
   ]
  },
  {
   "cell_type": "code",
   "execution_count": 127,
   "id": "4999ed8d",
   "metadata": {
    "hidden": true,
    "slideshow": {
     "slide_type": "skip"
    },
    "tags": [
     "remove_input"
    ]
   },
   "outputs": [
    {
     "data": {
      "image/png": "[encoded data removed]",
      "text/plain": [
       "<Figure size 720x288 with 2 Axes>"
      ]
     },
     "metadata": {
      "needs_background": "light"
     },
     "output_type": "display_data"
    }
   ],
   "source": [
    "fig = plt.figure(figsize=(10,4))\n",
    "ax1 = fig.add_subplot(1,2,1)\n",
    "ax2 = fig.add_subplot(1,2,2)\n",
    "plt.setp([ax1, ax2], xticks=[1,2], xticklabels=['before', 'after'])\n",
    "ax1.bar([1,2], [compare_df.iloc[0].before, compare_df.iloc[0].after])\n",
    "ax2.bar([1,2], [compare_df.iloc[1].before, compare_df.iloc[1].after])\n",
    "ax1.title.set_text('number of sellers')\n",
    "ax2.title.set_text('avg profit per seller')"
   ]
  },
  {
   "cell_type": "markdown",
   "id": "b452982c",
   "metadata": {
    "hidden": true,
    "slideshow": {
     "slide_type": "skip"
    }
   },
   "source": [
    "#### It's so good! 🤯 "
   ]
  },
  {
   "cell_type": "markdown",
   "id": "f1e4ce67",
   "metadata": {
    "hidden": true,
    "slideshow": {
     "slide_type": "skip"
    }
   },
   "source": [
    "## Q & A ✋"
   ]
  }
 ],
 "metadata": {
  "celltoolbar": "Slideshow",
  "kernelspec": {
   "display_name": "Python 3 (ipykernel)",
   "language": "python",
   "name": "python3"
  },
  "language_info": {
   "codemirror_mode": {
    "name": "ipython",
    "version": 3
   },
   "file_extension": ".py",
   "mimetype": "text/x-python",
   "name": "python",
   "nbconvert_exporter": "python",
   "pygments_lexer": "ipython3",
   "version": "3.8.12"
  },
  "toc": {
   "base_numbering": 1,
   "nav_menu": {},
   "number_sections": true,
   "sideBar": true,
   "skip_h1_title": false,
   "title_cell": "Table of Contents",
   "title_sidebar": "Contents",
   "toc_cell": false,
   "toc_position": {},
   "toc_section_display": true,
   "toc_window_display": false
  }
 },
 "nbformat": 4,
 "nbformat_minor": 5
}
